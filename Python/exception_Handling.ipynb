{
 "cells": [
  {
   "cell_type": "code",
   "execution_count": 1,
   "metadata": {},
   "outputs": [
    {
     "data": {
      "text/plain": [
       "'\\ntry\\nexcept\\nfinally\\nelse\\nraise'"
      ]
     },
     "execution_count": 1,
     "metadata": {},
     "output_type": "execute_result"
    }
   ],
   "source": [
    "'''from is used to import some part of module\n",
    "else import simply import all class from modula'''\n",
    "'''\n",
    "try\n",
    "except\n",
    "finally\n",
    "else\n",
    "raise'''"
   ]
  },
  {
   "cell_type": "code",
   "execution_count": 2,
   "metadata": {},
   "outputs": [
    {
     "data": {
      "text/plain": [
       "'install any module\\npip install packageName'"
      ]
     },
     "execution_count": 2,
     "metadata": {},
     "output_type": "execute_result"
    }
   ],
   "source": [
    "'''install any module\n",
    "pip install packageName'''"
   ]
  },
  {
   "cell_type": "code",
   "execution_count": 3,
   "metadata": {},
   "outputs": [
    {
     "name": "stdout",
     "output_type": "stream",
     "text": [
      "Requirement already satisfied: colorama in c:\\users\\premp\\anaconda3\\lib\\site-packages (0.4.1)\n",
      "Note: you may need to restart the kernel to use updated packages.\n"
     ]
    }
   ],
   "source": [
    "pip install colorama "
   ]
  },
  {
   "cell_type": "code",
   "execution_count": 4,
   "metadata": {},
   "outputs": [
    {
     "name": "stdout",
     "output_type": "stream",
     "text": [
      "try executed\n",
      "other error\n",
      "finally blocked\n"
     ]
    }
   ],
   "source": [
    "try:\n",
    "    print(\"try executed\")\n",
    "    f=open(\"abc.txt\")\n",
    "    x=5/0\n",
    "except ZeroDivisionError:\n",
    "    print(\"divide by zero raised\")\n",
    "except:\n",
    "    print(\"other error\")\n",
    "finally:\n",
    "    print(\"finally blocked\")"
   ]
  },
  {
   "cell_type": "code",
   "execution_count": 5,
   "metadata": {},
   "outputs": [
    {
     "name": "stdout",
     "output_type": "stream",
     "text": [
      "try executed1\n",
      "file not found\n",
      "try executed2\n",
      "else block\n"
     ]
    }
   ],
   "source": [
    "try:\n",
    "    print(\"try executed1\")\n",
    "    f=open(\"abc.txt\")\n",
    "except:\n",
    "    print(\"file not found\")\n",
    "else:\n",
    "    print(\"else block\")\n",
    "#when exception is not thrown\n",
    "try:\n",
    "    print(\"try executed2\")\n",
    "except:\n",
    "    print(\"file not found\")\n",
    "else:\n",
    "    print(\"else block\")"
   ]
  },
  {
   "cell_type": "code",
   "execution_count": 6,
   "metadata": {},
   "outputs": [
    {
     "name": "stdout",
     "output_type": "stream",
     "text": [
      "0 is notvalid\n",
      "--------------------------\n",
      "accepted\n"
     ]
    }
   ],
   "source": [
    "def throw_exception(num):\n",
    "    if num==0:\n",
    "        raise Exception(\"0 is notvalid\")\n",
    "    else:\n",
    "        print(\"accepted\")\n",
    "try:\n",
    "    throw_exception(0)\n",
    "except Exception as e:\n",
    "    print(e)\n",
    "print(\"--------------------------\")\n",
    "try:\n",
    "    throw_exception(2)\n",
    "except Exception as e:\n",
    "    print(e)"
   ]
  },
  {
   "cell_type": "code",
   "execution_count": 7,
   "metadata": {},
   "outputs": [
    {
     "name": "stdout",
     "output_type": "stream",
     "text": [
      "Raised Exception\n"
     ]
    }
   ],
   "source": [
    "#custom raised Exception\n",
    "class MyException(Exception):\n",
    "    def __init__(self):\n",
    "        super(Exception,self).__init__()\n",
    "        self.args=(\"Raised Exception\",)\n",
    "try:\n",
    "    raise MyException()\n",
    "except MyException as e:\n",
    "    print(e)"
   ]
  }
 ],
 "metadata": {
  "kernelspec": {
   "display_name": "Python 3",
   "language": "python",
   "name": "python3"
  },
  "language_info": {
   "codemirror_mode": {
    "name": "ipython",
    "version": 3
   },
   "file_extension": ".py",
   "mimetype": "text/x-python",
   "name": "python",
   "nbconvert_exporter": "python",
   "pygments_lexer": "ipython3",
   "version": "3.7.4"
  }
 },
 "nbformat": 4,
 "nbformat_minor": 2
}
