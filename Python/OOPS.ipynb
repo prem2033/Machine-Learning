{
 "cells": [
  {
   "cell_type": "code",
   "execution_count": 1,
   "metadata": {},
   "outputs": [],
   "source": [
    "class A:\n",
    "    def printa(self):\n",
    "        print(\"Class A\")    "
   ]
  },
  {
   "cell_type": "code",
   "execution_count": 2,
   "metadata": {},
   "outputs": [
    {
     "name": "stdout",
     "output_type": "stream",
     "text": [
      "Class B\n",
      "Class A\n"
     ]
    }
   ],
   "source": [
    "# single inheritance inheriting class A\n",
    "class B(A):\n",
    "    def printb(self):\n",
    "        print(\"Class B\")\n",
    "obj=B()\n",
    "obj.printb()\n",
    "obj.printa()"
   ]
  },
  {
   "cell_type": "code",
   "execution_count": 3,
   "metadata": {},
   "outputs": [
    {
     "name": "stdout",
     "output_type": "stream",
     "text": [
      "Class C\n",
      "Class B\n",
      "Class A\n"
     ]
    }
   ],
   "source": [
    "# multiple inheritance, inheriting class A and B\n",
    "class A:\n",
    "    def printa(self):\n",
    "        print(\"Class A\")\n",
    "\n",
    "class B:\n",
    "    def printb(self):\n",
    "        print(\"Class B\")\n",
    "\n",
    "class C(A,B):\n",
    "    def printc(self):\n",
    "        print(\"Class C\")\n",
    "\n",
    "        \n",
    "#multiple inheritance\n",
    "cobj=C()\n",
    "cobj.printc()\n",
    "cobj.printb()\n",
    "cobj.printa()"
   ]
  },
  {
   "cell_type": "code",
   "execution_count": 4,
   "metadata": {},
   "outputs": [
    {
     "name": "stdout",
     "output_type": "stream",
     "text": [
      "Class D\n",
      "Class B\n",
      "Class A\n"
     ]
    }
   ],
   "source": [
    "#hierarchical inhetitance\n",
    "class A:\n",
    "    def printa(self):\n",
    "        print(\"Class A\")\n",
    "class B(A):\n",
    "    def printb(self):\n",
    "        print(\"Class B\")\n",
    "class C(B):\n",
    "    def printc(self):\n",
    "        print(\"Class D\")\n",
    "obje=C()\n",
    "obje.printc()\n",
    "obje.printb()\n",
    "obje.printa()\n",
    "#in diamond problem python consider sqequence wise"
   ]
  },
  {
   "cell_type": "code",
   "execution_count": 5,
   "metadata": {},
   "outputs": [
    {
     "name": "stdout",
     "output_type": "stream",
     "text": [
      "sum is 11\n",
      "sum is 20\n"
     ]
    }
   ],
   "source": [
    "class Base:\n",
    "    def add(self,a=0,b=0,c=0):\n",
    "        print(f\"sum is {a+b+c}\")\n",
    "obj=Base()\n",
    "obj.add(5,6)\n",
    "obj.add(6,4,10)"
   ]
  },
  {
   "cell_type": "code",
   "execution_count": 6,
   "metadata": {},
   "outputs": [
    {
     "name": "stdout",
     "output_type": "stream",
     "text": [
      "Name is prakash and age is 45\n"
     ]
    }
   ],
   "source": [
    "class Student:\n",
    "    def __init__(self,name=\"prem\",age=\"23\"):\n",
    "        self.name=name\n",
    "        self.age=age\n",
    "    def printdetails(self):\n",
    "        print (f\"Name is {self.name} and age is {self.age}\") #string format\n",
    "obj=Student(\"prakash\",45)\n",
    "obj.printdetails();"
   ]
  },
  {
   "cell_type": "code",
   "execution_count": 7,
   "metadata": {},
   "outputs": [
    {
     "name": "stdout",
     "output_type": "stream",
     "text": [
      "Static method executed\n"
     ]
    }
   ],
   "source": [
    "#static method in python\n",
    "class Student:\n",
    "    def __init__(self,name=\"prem\",age=\"23\"):\n",
    "        self.name=name\n",
    "        self.age=age        \n",
    "    @staticmethod\n",
    "    def printdetailsstatic():\n",
    "        print(\"Static method executed\")\n",
    "Student.printdetailsstatic();"
   ]
  },
  {
   "cell_type": "code",
   "execution_count": 8,
   "metadata": {},
   "outputs": [
    {
     "name": "stdout",
     "output_type": "stream",
     "text": [
      "Name is prakash and age is 45\n",
      "Name is Rock and age is 23\n"
     ]
    }
   ],
   "source": [
    "#class method->used as alternative constructor\n",
    "class Student:\n",
    "    def __init__(self,name=\"prem\",age=\"23\"):\n",
    "        self.name=name\n",
    "        self.age=age\n",
    "    def printdetails(self):\n",
    "        print (f\"Name is {self.name} and age is {self.age}\") #string format\n",
    "    @classmethod\n",
    "    def classmethodfun(cls,tempstr):\n",
    "        return cls(*tempstr.split(\"-\"))\n",
    "obj1=Student(\"prakash\",45)\n",
    "obj1.printdetails();\n",
    "#accessing class method \n",
    "#used as Alternative Constructor as well\n",
    "obj2=Student.classmethodfun(\"Rock-23\")\n",
    "obj2.printdetails()"
   ]
  },
  {
   "cell_type": "code",
   "execution_count": 9,
   "metadata": {},
   "outputs": [
    {
     "name": "stdout",
     "output_type": "stream",
     "text": [
      "Public method\n",
      "Private Method\n"
     ]
    }
   ],
   "source": [
    "# Enscapsulation in python\n",
    "'''Encapsulation means that the internal representation of an object is generally \n",
    "hidden from view outside of the object’s definition.'''\n",
    "class A:\n",
    "    def __init__(self):\n",
    "        __amt=5;\n",
    "    __privateVariable=\"private\"\n",
    "    def publicMethod(self):\n",
    "        print(\"Public method\")\n",
    "    def __privateMethod(self):\n",
    "        print(\"Private Method\")\n",
    "obj=A()\n",
    "obj.publicMethod()\n",
    "#obj.__amt  can't access private variable\n",
    "obj._A__privateMethod() #way to access private method"
   ]
  },
  {
   "cell_type": "code",
   "execution_count": 10,
   "metadata": {},
   "outputs": [
    {
     "name": "stdout",
     "output_type": "stream",
     "text": [
      "Public method\n"
     ]
    },
    {
     "ename": "AttributeError",
     "evalue": "'A' object has no attribute '__privateMethod'",
     "output_type": "error",
     "traceback": [
      "\u001b[1;31m---------------------------------------------------------------------------\u001b[0m",
      "\u001b[1;31mAttributeError\u001b[0m                            Traceback (most recent call last)",
      "\u001b[1;32m<ipython-input-10-931362339d90>\u001b[0m in \u001b[0;36m<module>\u001b[1;34m\u001b[0m\n\u001b[0;32m     10\u001b[0m \u001b[0mobj\u001b[0m\u001b[1;33m.\u001b[0m\u001b[0mpublicMethod\u001b[0m\u001b[1;33m(\u001b[0m\u001b[1;33m)\u001b[0m\u001b[1;33m\u001b[0m\u001b[1;33m\u001b[0m\u001b[0m\n\u001b[0;32m     11\u001b[0m \u001b[1;31m#obj.__amt  can't access private variable\u001b[0m\u001b[1;33m\u001b[0m\u001b[1;33m\u001b[0m\u001b[1;33m\u001b[0m\u001b[0m\n\u001b[1;32m---> 12\u001b[1;33m \u001b[0mobj\u001b[0m\u001b[1;33m.\u001b[0m\u001b[0m__privateMethod\u001b[0m\u001b[1;33m(\u001b[0m\u001b[1;33m)\u001b[0m \u001b[1;31m#way to access private method\u001b[0m\u001b[1;33m\u001b[0m\u001b[1;33m\u001b[0m\u001b[0m\n\u001b[0m",
      "\u001b[1;31mAttributeError\u001b[0m: 'A' object has no attribute '__privateMethod'"
     ]
    }
   ],
   "source": [
    "class A:\n",
    "    def __init__(self):\n",
    "        __amt=5;\n",
    "    __privateVariable=\"private\"\n",
    "    def publicMethod(self):\n",
    "        print(\"Public method\")\n",
    "    def __privateMethod(self):\n",
    "        print(\"Private Method\")\n",
    "obj=A()\n",
    "obj.publicMethod()\n",
    "#obj.__amt  can't access private variable\n",
    "obj.__privateMethod() #way to access private method"
   ]
  },
  {
   "cell_type": "code",
   "execution_count": 11,
   "metadata": {},
   "outputs": [
    {
     "name": "stdout",
     "output_type": "stream",
     "text": [
      "derived class\n"
     ]
    }
   ],
   "source": [
    "#Encasuplation ->hiding implemention of the method\n",
    "'''public -> any one\n",
    "private -> only for same class\n",
    "protected-> with in class by inherating\n",
    "protected (_proctedvaribale) start with _\n",
    "private start with __\n",
    "access -> obj._class__privateVar'''\n",
    "#abstraction ,Encapsulation Inheritance Polymorphism\n",
    "\n",
    "# overloading in python\n",
    "class A:\n",
    "    def printa(self):\n",
    "        print(\"parent class\")\n",
    "class B(A):\n",
    "    def printa(self):\n",
    "        print(\"derived class\")\n",
    "obj=B()\n",
    "obj.printa()"
   ]
  },
  {
   "cell_type": "code",
   "execution_count": 12,
   "metadata": {},
   "outputs": [
    {
     "name": "stdout",
     "output_type": "stream",
     "text": [
      "parent class\n",
      "derived class\n"
     ]
    }
   ],
   "source": [
    "''' calling super constructor -->> super().__init__()\n",
    "Calling override method -->> super(Child class ,self).printa() '''\n",
    "class A:\n",
    "    def printa(self):\n",
    "        print(\"parent class\")\n",
    "class B(A):\n",
    "    def printa(self):\n",
    "        super(B,self).printa() #calling super class method\n",
    "        print(\"derived class\")\n",
    "obj=B()\n",
    "obj.printa()"
   ]
  },
  {
   "cell_type": "code",
   "execution_count": 13,
   "metadata": {},
   "outputs": [
    {
     "name": "stdout",
     "output_type": "stream",
     "text": [
      "70\n",
      "0.75\n"
     ]
    }
   ],
   "source": [
    "#operator overloading & Dunder Method\n",
    "class A:\n",
    "    def __init__(self,name,age):\n",
    "        self.name=name\n",
    "        self.age=age\n",
    "    #Dunder method\n",
    "    def __add__(self,other):\n",
    "        return self.age+other.age\n",
    "    def __truediv__(self,other):\n",
    "        return self.age/other.age\n",
    "obj1=A(\"prem\",30)\n",
    "obj2=A(\"prakash\",40) \n",
    "print(obj1+obj2)\n",
    "print(obj1/obj2)\n",
    "        "
   ]
  },
  {
   "cell_type": "code",
   "execution_count": 14,
   "metadata": {},
   "outputs": [],
   "source": [
    "from abc import ABC,abstractmethod\n",
    "class A(ABC):\n",
    "    @abstractmethod\n",
    "    def printArea(): #forcing to implement by child class\n",
    "        return 0\n",
    "'''NOTE:- we can not creat object of abstract class'''\n",
    "class Rectangle(A):\n",
    "    def printArea(): #overriding\n",
    "        return 6\n",
    "obj=Rectangle()    "
   ]
  },
  {
   "cell_type": "code",
   "execution_count": 15,
   "metadata": {},
   "outputs": [
    {
     "ename": "TypeError",
     "evalue": "Can't instantiate abstract class Rectangle with abstract methods printArea",
     "output_type": "error",
     "traceback": [
      "\u001b[1;31m---------------------------------------------------------------------------\u001b[0m",
      "\u001b[1;31mTypeError\u001b[0m                                 Traceback (most recent call last)",
      "\u001b[1;32m<ipython-input-15-d3687e4a30dc>\u001b[0m in \u001b[0;36m<module>\u001b[1;34m\u001b[0m\n\u001b[0;32m      7\u001b[0m \u001b[1;32mclass\u001b[0m \u001b[0mRectangle\u001b[0m\u001b[1;33m(\u001b[0m\u001b[0mA\u001b[0m\u001b[1;33m)\u001b[0m\u001b[1;33m:\u001b[0m\u001b[1;33m\u001b[0m\u001b[1;33m\u001b[0m\u001b[0m\n\u001b[0;32m      8\u001b[0m     \u001b[1;32mpass\u001b[0m\u001b[1;33m\u001b[0m\u001b[1;33m\u001b[0m\u001b[0m\n\u001b[1;32m----> 9\u001b[1;33m \u001b[0mobj\u001b[0m\u001b[1;33m=\u001b[0m\u001b[0mRectangle\u001b[0m\u001b[1;33m(\u001b[0m\u001b[1;33m)\u001b[0m\u001b[1;33m\u001b[0m\u001b[1;33m\u001b[0m\u001b[0m\n\u001b[0m",
      "\u001b[1;31mTypeError\u001b[0m: Can't instantiate abstract class Rectangle with abstract methods printArea"
     ]
    }
   ],
   "source": [
    "from abc import ABC,abstractmethod\n",
    "class A(ABC):\n",
    "    @abstractmethod\n",
    "    def printArea(): #forcing to implement by child class\n",
    "        return 0\n",
    "'''NOTE:- we can not creat object of abstract class'''\n",
    "class Rectangle(A):\n",
    "    pass\n",
    "obj=Rectangle()"
   ]
  },
  {
   "cell_type": "code",
   "execution_count": 16,
   "metadata": {},
   "outputs": [
    {
     "name": "stdout",
     "output_type": "stream",
     "text": [
      "0 1 2 3 4 else part\n",
      "0 1 2 "
     ]
    }
   ],
   "source": [
    "#else will execute when for loop will execute completely\n",
    "for i in range(5):\n",
    "    print(i,end=\" \")\n",
    "else:\n",
    "    print(\"else part\")\n",
    "for i in range(5):\n",
    "    if i==3:\n",
    "        break\n",
    "    print(i,end=\" \")\n",
    "else:\n",
    "    print(\"else part\")"
   ]
  },
  {
   "cell_type": "markdown",
   "metadata": {},
   "source": [
    "# Practice"
   ]
  },
  {
   "cell_type": "code",
   "execution_count": 2,
   "metadata": {},
   "outputs": [],
   "source": [
    "class Man:\n",
    "    __privateVar=\"Hello Private\"\n",
    "    normalVar=\"Normal Variable\"\n",
    "    _protectedVar=\"Protected Variable\"\n",
    "    def __init__(self,name):\n",
    "        self.name=name\n",
    "    def nameIs(self):\n",
    "        print('Name is ',self.name)"
   ]
  },
  {
   "cell_type": "code",
   "execution_count": 3,
   "metadata": {},
   "outputs": [
    {
     "name": "stdout",
     "output_type": "stream",
     "text": [
      "Name is  prem\n"
     ]
    }
   ],
   "source": [
    "manobj=Man(\"prem\")\n",
    "manobj.nameIs()\n",
    "manobj._Man__privateVar\n",
    "manobj.normalVar\n",
    "class MaleTeacher(Man):\n",
    "    def __init__(self,name):\n",
    "        self.name=name"
   ]
  },
  {
   "cell_type": "code",
   "execution_count": 4,
   "metadata": {},
   "outputs": [
    {
     "name": "stdout",
     "output_type": "stream",
     "text": [
      "Name is  prakash\n"
     ]
    }
   ],
   "source": [
    "MaleTeacherobj=MaleTeacher(\"prakash\")\n",
    "MaleTeacherobj.nameIs()"
   ]
  },
  {
   "cell_type": "code",
   "execution_count": 5,
   "metadata": {},
   "outputs": [
    {
     "data": {
      "text/plain": [
       "'Normal Variable'"
      ]
     },
     "execution_count": 5,
     "metadata": {},
     "output_type": "execute_result"
    }
   ],
   "source": [
    "MaleTeacherobj.normalVar"
   ]
  },
  {
   "cell_type": "code",
   "execution_count": 6,
   "metadata": {},
   "outputs": [
    {
     "data": {
      "text/plain": [
       "'Protected Variable'"
      ]
     },
     "execution_count": 6,
     "metadata": {},
     "output_type": "execute_result"
    }
   ],
   "source": [
    "MaleTeacherobj._protectedVar"
   ]
  },
  {
   "cell_type": "code",
   "execution_count": 7,
   "metadata": {},
   "outputs": [
    {
     "ename": "AttributeError",
     "evalue": "'MaleTeacher' object has no attribute '_MaleTeacher__privateVar'",
     "output_type": "error",
     "traceback": [
      "\u001b[1;31m---------------------------------------------------------------------------\u001b[0m",
      "\u001b[1;31mAttributeError\u001b[0m                            Traceback (most recent call last)",
      "\u001b[1;32m<ipython-input-7-8369728c2286>\u001b[0m in \u001b[0;36m<module>\u001b[1;34m\u001b[0m\n\u001b[1;32m----> 1\u001b[1;33m \u001b[0mMaleTeacherobj\u001b[0m\u001b[1;33m.\u001b[0m\u001b[0m_MaleTeacher__privateVar\u001b[0m\u001b[1;33m\u001b[0m\u001b[1;33m\u001b[0m\u001b[0m\n\u001b[0m",
      "\u001b[1;31mAttributeError\u001b[0m: 'MaleTeacher' object has no attribute '_MaleTeacher__privateVar'"
     ]
    }
   ],
   "source": [
    "MaleTeacherobj._MaleTeacher__privateVar"
   ]
  },
  {
   "cell_type": "code",
   "execution_count": 8,
   "metadata": {},
   "outputs": [],
   "source": [
    "class A:\n",
    "    def method(self):\n",
    "        print(\"form class A\")\n",
    "class B:\n",
    "    def method(self):\n",
    "        print(\"form class B\")\n",
    "class C(B,A):\n",
    "    pass\n",
    "c=C()"
   ]
  },
  {
   "cell_type": "code",
   "execution_count": null,
   "metadata": {},
   "outputs": [],
   "source": [
    "c.method()"
   ]
  }
 ],
 "metadata": {
  "kernelspec": {
   "display_name": "Python 3",
   "language": "python",
   "name": "python3"
  },
  "language_info": {
   "codemirror_mode": {
    "name": "ipython",
    "version": 3
   },
   "file_extension": ".py",
   "mimetype": "text/x-python",
   "name": "python",
   "nbconvert_exporter": "python",
   "pygments_lexer": "ipython3",
   "version": "3.7.4"
  }
 },
 "nbformat": 4,
 "nbformat_minor": 2
}
